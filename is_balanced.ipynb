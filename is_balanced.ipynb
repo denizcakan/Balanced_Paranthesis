{
 "cells": [
  {
   "cell_type": "code",
   "execution_count": 1,
   "id": "7b1c569d-668e-4b39-9bf2-6bab680ef658",
   "metadata": {},
   "outputs": [],
   "source": [
    "# Algorithm determines whether its parentheses are properly balanced or non-balanced.\n",
    "# For example:\n",
    "#    [()]{} is balanced.\r",
    "#    [(]{} is not balanced."
   ]
  },
  {
   "cell_type": "code",
   "execution_count": 2,
   "id": "08c92f77-7c92-450f-9687-895d49a91fa5",
   "metadata": {},
   "outputs": [],
   "source": [
    "class Stack:\n",
    "    def __init__(self):\n",
    "        self.__elements = []\n",
    "\n",
    "    # Return true if the tack is empty\n",
    "    def isEmpty(self):\n",
    "        return len(self.__elements) == 0\n",
    "    \n",
    "    # Returns the element at the top of the stack \n",
    "    # without removing it from the stack.\n",
    "    def peek(self):\n",
    "        if self.isEmpty():\n",
    "            return None\n",
    "        else:\n",
    "            return self.__elements[len(self.__elements) - 1]\n",
    "\n",
    "    # Stores an element into the top of the stack\n",
    "    def push(self, value):\n",
    "        self.__elements.append(value)\n",
    "\n",
    "    # Removes the element at the top of the stack and returns it\n",
    "    def pop(self):\n",
    "        if self.isEmpty():\n",
    "            return None\n",
    "        else:\n",
    "            return self.__elements.pop() \n",
    "    \n",
    "    # Return the size of the stack\n",
    "    def getSize(self):\n",
    "        return len(self.__elements)"
   ]
  },
  {
   "cell_type": "code",
   "execution_count": 3,
   "id": "487593c2-f770-4b71-9141-51f8a76f4238",
   "metadata": {},
   "outputs": [],
   "source": [
    "# isBalanced function reads in a text stream from standard input and\n",
    "# uses a stack to determine whether its parentheses are properly balanced\n",
    "def isBalanced(input_string):\n",
    "\n",
    "    # An empty stack for later use\n",
    "    parentheses_stack = Stack()\n",
    "    # Process each element in input sequentially\n",
    "    for char in input_string:\n",
    "        # If element is opening bracket, push it to stack\n",
    "        if char in [\"(\", \"[\", \"{\"]:\n",
    "            parentheses_stack.push(char)\n",
    "\n",
    "        # If element is closing parenthesis and stack.peek() element is same\n",
    "        # type of opening parenthesis, call stack.pop() method\n",
    "        # So the parentheses that are balanced will vanish\n",
    "        if (char == \")\" and parentheses_stack.peek() == \"(\") \\\n",
    "                or (char == \"]\" and parentheses_stack.peek() == \"[\") \\\n",
    "                or (char == \"}\" and parentheses_stack.peek() == \"{\"):\n",
    "            parentheses_stack.pop()\n",
    "\n",
    "        # If the element is a closing parenthesis and the previous condition\n",
    "        # is not met, push it to stack\n",
    "        elif char in [\")\", \"]\", \"}\"]:\n",
    "            parentheses_stack.push(char)\n",
    "\n",
    "    # Check stacking occupancy after all elements have been processed\n",
    "    # If string input is balanced, stack is empty. So isEmpty() method returns True\n",
    "    # If string input is not balanced, stack is not empty. So isEmpty() method returns False\n",
    "    return parentheses_stack.isEmpty()"
   ]
  },
  {
   "cell_type": "code",
   "execution_count": 4,
   "id": "5f639146-087e-449f-ba1a-e1a206cbd307",
   "metadata": {},
   "outputs": [
    {
     "name": "stdout",
     "output_type": "stream",
     "text": [
      "[()]{}{[()()]()} is balanced? => True\n",
      "[(]) is balanced? => False\n"
     ]
    }
   ],
   "source": [
    "# Test case inputs\n",
    "input1 = \"[()]{}{[()()]()}\"\n",
    "input2 = \"[(])\"\n",
    "\n",
    "print(input1 + \" is balanced? => \" + str(isBalanced(input1)))\n",
    "print(input2 + \" is balanced? => \" + str(isBalanced(input2)))"
   ]
  },
  {
   "cell_type": "code",
   "execution_count": 5,
   "id": "6fb7bdde-3196-49f4-a8cf-4285b36320a2",
   "metadata": {},
   "outputs": [
    {
     "name": "stdout",
     "output_type": "stream",
     "text": [
      "(([)]) is balanced? => False\n",
      "(([{}]))() is balanced? => True\n"
     ]
    }
   ],
   "source": [
    "# Additional test cases\n",
    "input3 = \"(([)])\"\n",
    "input4 = \"(([{}]))()\"\n",
    "\n",
    "print(input3 + \" is balanced? => \" + str(isBalanced(input3)))\n",
    "print(input4 + \" is balanced? => \" + str(isBalanced(input4)))"
   ]
  },
  {
   "cell_type": "code",
   "execution_count": null,
   "id": "b1d6faa9-0093-4639-b8ac-a27c68f38739",
   "metadata": {},
   "outputs": [],
   "source": []
  }
 ],
 "metadata": {
  "kernelspec": {
   "display_name": "Python 3 (ipykernel)",
   "language": "python",
   "name": "python3"
  },
  "language_info": {
   "codemirror_mode": {
    "name": "ipython",
    "version": 3
   },
   "file_extension": ".py",
   "mimetype": "text/x-python",
   "name": "python",
   "nbconvert_exporter": "python",
   "pygments_lexer": "ipython3",
   "version": "3.9.7"
  }
 },
 "nbformat": 4,
 "nbformat_minor": 5
}
